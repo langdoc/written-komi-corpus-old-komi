{
 "cells": [
  {
   "cell_type": "code",
   "execution_count": 3,
   "metadata": {},
   "outputs": [],
   "source": [
    "from pathlib import Path\n",
    "import re\n",
    "from nltk.tokenize import word_tokenize\n",
    "from nltk.tokenize import sent_tokenize"
   ]
  },
  {
   "cell_type": "code",
   "execution_count": null,
   "metadata": {},
   "outputs": [],
   "source": []
  },
  {
   "cell_type": "code",
   "execution_count": 28,
   "metadata": {},
   "outputs": [],
   "source": [
    "conllu_file = \"old_komi.conllu\"\n",
    "\n",
    "def text2conllu(text = \"textfile\"):\n",
    "\n",
    "    # parsed_file = parse_text_plain(text_file)\n",
    "    \n",
    "    text_file = open(text, \"r\")\n",
    "    text_content = text_file.read()\n",
    "    \n",
    "    sentences = sent_tokenize(text_content)\n",
    "\n",
    "    text_name = Path(text).stem\n",
    "\n",
    "    f = open(conllu_file, \"a\")\n",
    "\n",
    "    for index, sentence in enumerate(sentences):\n",
    "\n",
    "        trimmed_sentence = sentence.replace('’', '′')\n",
    "\n",
    "        f.write(\"# sent_id = %s\" % text_name + \"\\n\")\n",
    "        f.write(\"# text = %s \\n\" % trimmed_sentence)\n",
    "\n",
    "        words = word_tokenize(trimmed_sentence)\n",
    "\n",
    "        for index, word in enumerate(words, start = 1):\n",
    "            f.write(str(index) + \"\\t\" + word + \"\\t\" + \"_\" + \"\\t\" \"_\" + \"\\t\" + \"_\" + \"\\t\" + \"_\" + \"\\t\" + \"_\" + \"\\t\" + \"_\" + \"\\t\" + \"_\" + \"\\t\" + \"_\" \"\\n\")\n",
    "        f.write(\"\\n\")"
   ]
  },
  {
   "cell_type": "code",
   "execution_count": 32,
   "metadata": {},
   "outputs": [
    {
     "data": {
      "text/plain": [
       "False"
      ]
     },
     "execution_count": 32,
     "metadata": {},
     "output_type": "execute_result"
    }
   ],
   "source": []
  },
  {
   "cell_type": "code",
   "execution_count": 30,
   "metadata": {},
   "outputs": [],
   "source": [
    "conllu_file = \"old_komi.conllu\"\n",
    "\n",
    "filenames = sorted(Path('.').glob(\"**/*lytkin.txt\"))\n",
    "for filename in filenames:\n",
    "    path_in_str = str(filename)\n",
    "    text2conllu(path_in_str)\n",
    "\n",
    "f.close()"
   ]
  },
  {
   "cell_type": "code",
   "execution_count": 13,
   "metadata": {},
   "outputs": [
    {
     "name": "stdout",
     "output_type": "stream",
     "text": [
      "мэзöсэ исус кристосэ йэнлöн пии, мылышты мэнö крэка мортöс вас’укöс.\n",
      "амин’, кылдас’эв.\n",
      "\n",
      "\n"
     ]
    }
   ],
   "source": [
    "text = \"komi1267-1-lytkin.txt\"\n",
    "text_file = open(text, \"r\")\n",
    "text_content = text_file.read()\n",
    "print(text_content)"
   ]
  },
  {
   "cell_type": "code",
   "execution_count": 27,
   "metadata": {},
   "outputs": [],
   "source": [
    "conllu_file = \"old_komi.conllu\"\n",
    "\n",
    "sentences = sent_tokenize(text_content)\n",
    "\n",
    "text_name = Path(text).stem\n",
    "\n",
    "f = open(conllu_file, \"a\")\n",
    "\n",
    "for index, sentence in enumerate(sentences):\n",
    "    \n",
    "    trimmed_sentence = sentence.replace('’', '′')\n",
    "\n",
    "    f.write(\"# sent_id = %s\" % text_name + \"\\n\")\n",
    "    f.write(\"# text = %s \\n\" % trimmed_sentence)\n",
    "    \n",
    "    words = word_tokenize(trimmed_sentence)\n",
    "\n",
    "    for index, word in enumerate(words, start = 1):\n",
    "        f.write(str(index) + \"\\t\" + word + \"\\t\" + \"_\" + \"\\t\" \"_\" + \"\\t\" + \"_\" + \"\\t\" + \"_\" + \"\\t\" + \"_\" + \"\\t\" + \"_\" + \"\\t\" + \"_\" + \"\\t\" + \"_\" \"\\n\")\n",
    "    f.write(\"\\n\")"
   ]
  },
  {
   "cell_type": "code",
   "execution_count": 16,
   "metadata": {},
   "outputs": [
    {
     "data": {
      "text/plain": [
       "('conllu/old_komi.conllu',)"
      ]
     },
     "execution_count": 16,
     "metadata": {},
     "output_type": "execute_result"
    }
   ],
   "source": [
    "conllu_file"
   ]
  },
  {
   "cell_type": "code",
   "execution_count": null,
   "metadata": {},
   "outputs": [],
   "source": []
  }
 ],
 "metadata": {
  "kernelspec": {
   "display_name": "Python 3",
   "language": "python",
   "name": "python3"
  },
  "language_info": {
   "codemirror_mode": {
    "name": "ipython",
    "version": 3
   },
   "file_extension": ".py",
   "mimetype": "text/x-python",
   "name": "python",
   "nbconvert_exporter": "python",
   "pygments_lexer": "ipython3",
   "version": "3.7.3"
  }
 },
 "nbformat": 4,
 "nbformat_minor": 2
}
